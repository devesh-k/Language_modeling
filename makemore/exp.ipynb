{
 "cells": [
  {
   "cell_type": "code",
   "execution_count": 3,
   "id": "c9b32710",
   "metadata": {},
   "outputs": [
    {
     "name": "stdout",
     "output_type": "stream",
     "text": [
      "tensor([2.5000, 3.5000, 4.5000])\n"
     ]
    }
   ],
   "source": [
    "import torch\n",
    "\n",
    "# Create a tensor\n",
    "tensor = torch.tensor([[1, 2, 3],\n",
    "                       [4, 5, 6]],dtype = torch.float32)\n"
   ]
  },
  {
   "cell_type": "code",
   "execution_count": 4,
   "id": "72e8a95a",
   "metadata": {},
   "outputs": [
    {
     "data": {
      "text/plain": [
       "torch.Size([2, 3])"
      ]
     },
     "execution_count": 4,
     "metadata": {},
     "output_type": "execute_result"
    }
   ],
   "source": [
    "tensor.shape"
   ]
  },
  {
   "cell_type": "code",
   "execution_count": 6,
   "id": "2bc65716",
   "metadata": {},
   "outputs": [
    {
     "name": "stdout",
     "output_type": "stream",
     "text": [
      "tensor([2.5000, 3.5000, 4.5000])\n",
      "torch.Size([3])\n"
     ]
    }
   ],
   "source": [
    "\n",
    "# Calculate the mean along rows\n",
    "mean_row = tensor.mean(dim=0)\n",
    "print(mean_row)\n",
    "print(mean_row.shape)\n",
    "\n",
    "# [2.5, 3.5, 4.5]\n"
   ]
  },
  {
   "cell_type": "code",
   "execution_count": 8,
   "id": "a0b40fd5",
   "metadata": {},
   "outputs": [
    {
     "name": "stdout",
     "output_type": "stream",
     "text": [
      "tensor([[2.5000, 3.5000, 4.5000]])\n",
      "torch.Size([1, 3])\n"
     ]
    }
   ],
   "source": [
    "mean_row_with_keepdims = tensor.mean(dim=0, keepdims=True)\n",
    "print(mean_row_with_keepdims)\n",
    "print(mean_row_with_keepdims.shape)\n"
   ]
  },
  {
   "cell_type": "code",
   "execution_count": 9,
   "id": "17edcac0",
   "metadata": {},
   "outputs": [
    {
     "name": "stdout",
     "output_type": "stream",
     "text": [
      "tensor([[-1.5000, -1.5000, -1.5000],\n",
      "        [ 1.5000,  1.5000,  1.5000]])\n"
     ]
    }
   ],
   "source": [
    "centered_tensor = tensor - mean_row_with_keepdims\n",
    "print(centered_tensor)\n"
   ]
  },
  {
   "cell_type": "code",
   "execution_count": 10,
   "id": "db27f3a8",
   "metadata": {},
   "outputs": [
    {
     "name": "stdout",
     "output_type": "stream",
     "text": [
      "tensor([[-1.5000, -1.5000, -1.5000],\n",
      "        [ 1.5000,  1.5000,  1.5000]])\n"
     ]
    }
   ],
   "source": [
    "centered_tensor_no_keep = tensor - mean_row\n",
    "print(centered_tensor_no_keep)"
   ]
  },
  {
   "cell_type": "code",
   "execution_count": null,
   "id": "af8c9403",
   "metadata": {},
   "outputs": [],
   "source": []
  },
  {
   "cell_type": "code",
   "execution_count": null,
   "id": "f2eda4ca",
   "metadata": {},
   "outputs": [],
   "source": []
  }
 ],
 "metadata": {
  "kernelspec": {
   "display_name": "Python 3 (ipykernel)",
   "language": "python",
   "name": "python3"
  },
  "language_info": {
   "codemirror_mode": {
    "name": "ipython",
    "version": 3
   },
   "file_extension": ".py",
   "mimetype": "text/x-python",
   "name": "python",
   "nbconvert_exporter": "python",
   "pygments_lexer": "ipython3",
   "version": "3.8.12"
  }
 },
 "nbformat": 4,
 "nbformat_minor": 5
}

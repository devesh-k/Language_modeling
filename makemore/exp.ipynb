{
 "cells": [
  {
   "cell_type": "code",
   "execution_count": 1,
   "id": "ff37c31e",
   "metadata": {},
   "outputs": [],
   "source": [
    "import torch\n",
    "\n",
    "# Create a tensor\n",
    "tensor = torch.tensor([[1, 2, 3],\n",
    "                       [4, 5, 6]],dtype = torch.float32)\n"
   ]
  },
  {
   "cell_type": "code",
   "execution_count": 2,
   "id": "c5fba478",
   "metadata": {},
   "outputs": [],
   "source": [
    "w = torch.rand((29,29), dtype = torch.float32 , requires_grad = True)"
   ]
  },
  {
   "cell_type": "code",
   "execution_count": 8,
   "id": "e842eb79",
   "metadata": {},
   "outputs": [
    {
     "name": "stderr",
     "output_type": "stream",
     "text": [
      "<>:1: SyntaxWarning: 'int' object is not callable; perhaps you missed a comma?\n",
      "<>:1: SyntaxWarning: 'int' object is not callable; perhaps you missed a comma?\n",
      "/tmp/ipykernel_94/2459029645.py:1: SyntaxWarning: 'int' object is not callable; perhaps you missed a comma?\n",
      "  loss = 67(torch.arange(67)) + 83\n"
     ]
    },
    {
     "ename": "TypeError",
     "evalue": "'int' object is not callable",
     "output_type": "error",
     "traceback": [
      "\u001b[0;31m---------------------------------------------------------------------------\u001b[0m",
      "\u001b[0;31mTypeError\u001b[0m                                 Traceback (most recent call last)",
      "\u001b[0;32m/tmp/ipykernel_94/2459029645.py\u001b[0m in \u001b[0;36m<module>\u001b[0;34m\u001b[0m\n\u001b[0;32m----> 1\u001b[0;31m \u001b[0mloss\u001b[0m \u001b[0;34m=\u001b[0m \u001b[0;36m67\u001b[0m\u001b[0;34m(\u001b[0m\u001b[0mtorch\u001b[0m\u001b[0;34m.\u001b[0m\u001b[0marange\u001b[0m\u001b[0;34m(\u001b[0m\u001b[0;36m67\u001b[0m\u001b[0;34m)\u001b[0m\u001b[0;34m)\u001b[0m \u001b[0;34m+\u001b[0m \u001b[0;36m83\u001b[0m\u001b[0;34m\u001b[0m\u001b[0;34m\u001b[0m\u001b[0m\n\u001b[0m",
      "\u001b[0;31mTypeError\u001b[0m: 'int' object is not callable"
     ]
    }
   ],
   "source": [
    "loss = 67(torch.arange(67)) + 83"
   ]
  },
  {
   "cell_type": "code",
   "execution_count": 6,
   "id": "7d565230",
   "metadata": {},
   "outputs": [
    {
     "name": "stdout",
     "output_type": "stream",
     "text": [
      "tensor([2.5000, 3.5000, 4.5000])\n",
      "torch.Size([3])\n"
     ]
    }
   ],
   "source": [
    "\n",
    "# Calculate the mean along rows\n",
    "mean_row = tensor.mean(dim=0)\n",
    "print(mean_row)\n",
    "print(mean_row.shape)\n",
    "\n",
    "# [2.5, 3.5, 4.5]\n"
   ]
  },
  {
   "cell_type": "code",
   "execution_count": 8,
   "id": "74cc431b",
   "metadata": {},
   "outputs": [
    {
     "name": "stdout",
     "output_type": "stream",
     "text": [
      "tensor([[2.5000, 3.5000, 4.5000]])\n",
      "torch.Size([1, 3])\n"
     ]
    }
   ],
   "source": [
    "mean_row_with_keepdims = tensor.mean(dim=0, keepdims=True)\n",
    "print(mean_row_with_keepdims)\n",
    "print(mean_row_with_keepdims.shape)\n"
   ]
  },
  {
   "cell_type": "code",
   "execution_count": 9,
   "id": "3f21d8b9",
   "metadata": {},
   "outputs": [
    {
     "name": "stdout",
     "output_type": "stream",
     "text": [
      "tensor([[-1.5000, -1.5000, -1.5000],\n",
      "        [ 1.5000,  1.5000,  1.5000]])\n"
     ]
    }
   ],
   "source": [
    "centered_tensor = tensor - mean_row_with_keepdims\n",
    "print(centered_tensor)\n"
   ]
  },
  {
   "cell_type": "code",
   "execution_count": 10,
   "id": "4e7785ac",
   "metadata": {},
   "outputs": [
    {
     "name": "stdout",
     "output_type": "stream",
     "text": [
      "tensor([[-1.5000, -1.5000, -1.5000],\n",
      "        [ 1.5000,  1.5000,  1.5000]])\n"
     ]
    }
   ],
   "source": [
    "centered_tensor_no_keep = tensor - mean_row\n",
    "print(centered_tensor_no_keep)"
   ]
  },
  {
   "cell_type": "code",
   "execution_count": null,
   "id": "7ebd065e",
   "metadata": {},
   "outputs": [],
   "source": []
  },
  {
   "cell_type": "code",
   "execution_count": null,
   "id": "bedf3321",
   "metadata": {},
   "outputs": [],
   "source": []
  }
 ],
 "metadata": {
  "kernelspec": {
   "display_name": "Python 3 (ipykernel)",
   "language": "python",
   "name": "python3"
  },
  "language_info": {
   "codemirror_mode": {
    "name": "ipython",
    "version": 3
   },
   "file_extension": ".py",
   "mimetype": "text/x-python",
   "name": "python",
   "nbconvert_exporter": "python",
   "pygments_lexer": "ipython3",
   "version": "3.8.12"
  }
 },
 "nbformat": 4,
 "nbformat_minor": 5
}
